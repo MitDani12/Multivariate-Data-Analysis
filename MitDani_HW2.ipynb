{
  "nbformat": 4,
  "nbformat_minor": 0,
  "metadata": {
    "colab": {
      "name": "MitDani_HW2.ipynb",
      "provenance": [],
      "collapsed_sections": []
    },
    "kernelspec": {
      "name": "python3",
      "display_name": "Python 3.7  ('base': conda)"
    },
    "language_info": {
      "name": "python",
      "version": "3.7",
      "mimetype": "text/x-python",
      "codemirror_mode": {
        "name": "ipython",
        "version": 3
      },
      "pygments_lexer": "ipython3",
      "nbconvert_exporter": "python",
      "file_extension": ".py"
    },
    "interpreter": {
      "hash": "dc99e0612049eb9171e9aad7f8dc04962fa7dfa02942ff09fb19aa684a3e1395"
    }
  },
  "cells": [
    {
      "cell_type": "code",
      "metadata": {
        "id": "6I-FUEg3KzUa"
      },
      "source": [
        "# import packages\n",
        "import numpy as np\n",
        "import pandas as pd\n",
        "\n",
        "from scipy.optimize import minimize\n",
        "from scipy.optimize import fsolve\n",
        "import scipy.stats as stats\n",
        "\n",
        "import statsmodels.api as sm\n",
        "import matplotlib.pyplot as plt\n",
        "from functools import partial\n",
        "\n",
        "import warnings\n",
        "warnings.filterwarnings(\"ignore\")"
      ],
      "execution_count": null,
      "outputs": []
    },
    {
      "cell_type": "markdown",
      "metadata": {
        "id": "-Ie4NMuzKzUd"
      },
      "source": [
        "Use Python to answer the following questions. Show the code and provide complete sentences as your answers. Submit the .ipynb to Canvas. "
      ]
    },
    {
      "cell_type": "markdown",
      "metadata": {
        "id": "6cFadX9lKzUe"
      },
      "source": [
        "# Q1"
      ]
    },
    {
      "cell_type": "markdown",
      "metadata": {
        "id": "7P6C8fHmKzUe"
      },
      "source": [
        "If the weekly sales quantity of a product follows a Normal distribution with $\\mu = 100$ and $\\sigma = 10$.\n",
        "\n",
        "a) What is the probalitiy that the sales quantity is between 90 and 95 in a week?   \n",
        "b) What is the minimum quantity the manager should keep in the inventory at the start of a week so that the probability of stockout (sales greater than inventory) is less than 10%?"
      ]
    },
    {
      "cell_type": "code",
      "metadata": {
        "id": "pPsP2wKqMNOS",
        "colab": {
          "base_uri": "https://localhost:8080/"
        },
        "outputId": "e1e0722b-ea96-4851-ab2b-7dbf65287c61"
      },
      "source": [
        "mu, sigma = 100,10\n",
        "x1, x2 = 90,95\n",
        "z1 = (x1 - mu)/sigma\n",
        "z2 = (x2 - mu)/sigma\n",
        "P1 = stats.norm.cdf(z1)\n",
        "P2 = stats.norm.cdf(z2)\n",
        "P_sales_between_90_95 = P2 - P1\n",
        "P_sales_between_90_95 \n",
        "\n",
        "\n",
        "\n",
        "z = stats.norm.ppf(0.1)\n",
        "X = mu + (sigma * z)\n",
        "\n",
        "print(\"Probability that the sales quantity is between 90 and 95:\",P_sales_between_90_95)\n",
        "print(\"Minimum quantity manager should keep in the inventory at the start of a week:\", X)"
      ],
      "execution_count": null,
      "outputs": [
        {
          "output_type": "stream",
          "name": "stdout",
          "text": [
            "Probability that the sales quantity is between 90 and 95: 0.1498822847945298\n",
            "Minimum quantity manager should keep in the inventory at the start of a week: 87.184484344554\n"
          ]
        }
      ]
    },
    {
      "cell_type": "markdown",
      "metadata": {
        "id": "j3DUBAkzKzUe"
      },
      "source": [
        "# Q2\n",
        "Suppose that in Hoboken, the number of traffic accidents can be approximated by a Poisson distribution with λ = 2.5 per month. \n",
        "\n",
        "a) What is the probability of five or more than five traffic accidents in one month?   \n",
        "b) What is the median number of traffic accidents in one month?"
      ]
    },
    {
      "cell_type": "code",
      "metadata": {
        "colab": {
          "base_uri": "https://localhost:8080/"
        },
        "id": "CMVAXW9kCckc",
        "outputId": "23e81f51-6d91-4348-fd8c-ada3a8f7a6b7"
      },
      "source": [
        "from scipy.stats import poisson\n",
        "P = 1-poisson.cdf(k=4,mu=2.5)\n",
        "print('probability of five or more than five traffic accidents in one month: ',P)\n",
        "poisson.median(mu=2.5,loc=0)"
      ],
      "execution_count": 2,
      "outputs": [
        {
          "output_type": "stream",
          "name": "stdout",
          "text": [
            "probability of five or more than five traffic accidents in one month:  0.10882198108584873\n"
          ]
        },
        {
          "output_type": "execute_result",
          "data": {
            "text/plain": [
              "2.0"
            ]
          },
          "metadata": {},
          "execution_count": 2
        }
      ]
    },
    {
      "cell_type": "markdown",
      "metadata": {
        "id": "Rl4OIl0XKzUf"
      },
      "source": [
        "# Q3."
      ]
    },
    {
      "cell_type": "markdown",
      "metadata": {
        "id": "SgX29NurKzUf"
      },
      "source": [
        "Assuming that the following data (raw_data_hw) is generated by a Beta distribution, find the MLE for a and b.\n",
        "\n",
        "Hints: \n",
        "1. You need to use the [scipy.stats.beta class](https://docs.scipy.org/doc/scipy/reference/generated/scipy.stats.beta.html).  \n",
        "2. The 'true' parameters are a = 4, b = 2. You estimates shouldn't be far off. "
      ]
    },
    {
      "cell_type": "code",
      "metadata": {
        "id": "Zmy5ogHRKzUg",
        "colab": {
          "base_uri": "https://localhost:8080/",
          "height": 268
        },
        "outputId": "5db13339-99cd-4369-b1c7-5bd99668fb73"
      },
      "source": [
        "raw_data_hw = np.loadtxt('https://fmai-teaching.s3.amazonaws.com/bia652/est/b.txt')\n",
        "histogram = plt.hist(raw_data_hw, bins=20)\n"
      ],
      "execution_count": null,
      "outputs": [
        {
          "output_type": "display_data",
          "data": {
            "image/png": "[encoded data removed]",
            "text/plain": [
              "<Figure size 432x288 with 1 Axes>"
            ]
          },
          "metadata": {
            "needs_background": "light"
          }
        }
      ]
    },
    {
      "cell_type": "code",
      "metadata": {
        "id": "jeZ3BGFtnk69"
      },
      "source": [
        "from scipy.stats import beta"
      ],
      "execution_count": null,
      "outputs": []
    },
    {
      "cell_type": "code",
      "metadata": {
        "id": "gIJn7oE3n8FL"
      },
      "source": [
        "def negLL_Beta(params, raw_data):\n",
        "    \n",
        "    a, b = params[0], params[1]\n",
        "    LL = np.sum(stats.beta.logpdf(raw_data, a,b, scale=1)) \n",
        "    negLL = -LL\n",
        "    \n",
        "    return(negLL)"
      ],
      "execution_count": null,
      "outputs": []
    },
    {
      "cell_type": "code",
      "metadata": {
        "colab": {
          "base_uri": "https://localhost:8080/"
        },
        "id": "IstdlPituHYw",
        "outputId": "77bf53a9-253d-4832-cfd3-0936ea190c68"
      },
      "source": [
        "result = minimize(partial(negLL_Beta, raw_data=raw_data_hw), x0 = (0, 1), method = 'Nelder-Mead', options={'disp': True})\n",
        "\n",
        "print(\"\\n\", \n",
        "      \"The parameters we get from MLE: \", \"\\n\", \n",
        "      \"MLE estimate a: \", result['x'][0], \"\\n\",\n",
        "      \"MLE estimate b: \", result['x'][1], \"\\n\"\n",
        "      )"
      ],
      "execution_count": null,
      "outputs": [
        {
          "output_type": "stream",
          "name": "stdout",
          "text": [
            "Optimization terminated successfully.\n",
            "         Current function value: -365.424546\n",
            "         Iterations: 73\n",
            "         Function evaluations: 136\n",
            "\n",
            " The parameters we get from MLE:  \n",
            " MLE estimate a:  4.080323146060941 \n",
            " MLE estimate b:  2.093581799333127 \n",
            "\n"
          ]
        }
      ]
    },
    {
      "cell_type": "code",
      "metadata": {
        "id": "o420v00ouRxd"
      },
      "source": [
        ""
      ],
      "execution_count": null,
      "outputs": []
    }
  ]
}