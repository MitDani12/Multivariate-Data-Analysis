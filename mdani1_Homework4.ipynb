{
  "nbformat": 4,
  "nbformat_minor": 0,
  "metadata": {
    "kernelspec": {
      "display_name": "Python 3",
      "language": "python",
      "name": "python3"
    },
    "language_info": {
      "codemirror_mode": {
        "name": "ipython",
        "version": 3
      },
      "file_extension": ".py",
      "mimetype": "text/x-python",
      "name": "python",
      "nbconvert_exporter": "python",
      "pygments_lexer": "ipython3",
      "version": "3.7.1"
    },
    "toc": {
      "base_numbering": 1,
      "nav_menu": {},
      "number_sections": true,
      "sideBar": true,
      "skip_h1_title": false,
      "title_cell": "Table of Contents",
      "title_sidebar": "Contents",
      "toc_cell": false,
      "toc_position": {},
      "toc_section_display": true,
      "toc_window_display": false
    },
    "colab": {
      "name": "mdani1 - Homework4.ipynb",
      "provenance": []
    },
    "widgets": {
      "application/vnd.jupyter.widget-state+json": {
        "1932290196c7486b9a9b6a7683297df0": {
          "model_module": "@jupyter-widgets/controls",
          "model_name": "HBoxModel",
          "model_module_version": "1.5.0",
          "state": {
            "_view_name": "HBoxView",
            "_dom_classes": [],
            "_model_name": "HBoxModel",
            "_view_module": "@jupyter-widgets/controls",
            "_model_module_version": "1.5.0",
            "_view_count": null,
            "_view_module_version": "1.5.0",
            "box_style": "",
            "layout": "IPY_MODEL_0dd690cf140b49f493e55ad9f6422240",
            "_model_module": "@jupyter-widgets/controls",
            "children": [
              "IPY_MODEL_6de650f13e2540238619c724eaef7356",
              "IPY_MODEL_15eb86d2af9446fda83aa1dbf3456e1b",
              "IPY_MODEL_5111217b828347dea68c5d714e08638d"
            ]
          }
        },
        "0dd690cf140b49f493e55ad9f6422240": {
          "model_module": "@jupyter-widgets/base",
          "model_name": "LayoutModel",
          "model_module_version": "1.2.0",
          "state": {
            "_view_name": "LayoutView",
            "grid_template_rows": null,
            "right": null,
            "justify_content": null,
            "_view_module": "@jupyter-widgets/base",
            "overflow": null,
            "_model_module_version": "1.2.0",
            "_view_count": null,
            "flex_flow": null,
            "width": null,
            "min_width": null,
            "border": null,
            "align_items": null,
            "bottom": null,
            "_model_module": "@jupyter-widgets/base",
            "top": null,
            "grid_column": null,
            "overflow_y": null,
            "overflow_x": null,
            "grid_auto_flow": null,
            "grid_area": null,
            "grid_template_columns": null,
            "flex": null,
            "_model_name": "LayoutModel",
            "justify_items": null,
            "grid_row": null,
            "max_height": null,
            "align_content": null,
            "visibility": null,
            "align_self": null,
            "height": null,
            "min_height": null,
            "padding": null,
            "grid_auto_rows": null,
            "grid_gap": null,
            "max_width": null,
            "order": null,
            "_view_module_version": "1.2.0",
            "grid_template_areas": null,
            "object_position": null,
            "object_fit": null,
            "grid_auto_columns": null,
            "margin": null,
            "display": null,
            "left": null
          }
        },
        "6de650f13e2540238619c724eaef7356": {
          "model_module": "@jupyter-widgets/controls",
          "model_name": "HTMLModel",
          "model_module_version": "1.5.0",
          "state": {
            "_view_name": "HTMLView",
            "style": "IPY_MODEL_a98aced7100b4525bd2534cc87cf56c7",
            "_dom_classes": [],
            "description": "",
            "_model_name": "HTMLModel",
            "placeholder": "​",
            "_view_module": "@jupyter-widgets/controls",
            "_model_module_version": "1.5.0",
            "value": "100%",
            "_view_count": null,
            "_view_module_version": "1.5.0",
            "description_tooltip": null,
            "_model_module": "@jupyter-widgets/controls",
            "layout": "IPY_MODEL_da66a0b131c0496da91935281d3f8ede"
          }
        },
        "15eb86d2af9446fda83aa1dbf3456e1b": {
          "model_module": "@jupyter-widgets/controls",
          "model_name": "FloatProgressModel",
          "model_module_version": "1.5.0",
          "state": {
            "_view_name": "ProgressView",
            "style": "IPY_MODEL_d5a99a0334fe47ffa5e8a6d722f216f8",
            "_dom_classes": [],
            "description": "",
            "_model_name": "FloatProgressModel",
            "bar_style": "success",
            "max": 5000,
            "_view_module": "@jupyter-widgets/controls",
            "_model_module_version": "1.5.0",
            "value": 5000,
            "_view_count": null,
            "_view_module_version": "1.5.0",
            "orientation": "horizontal",
            "min": 0,
            "description_tooltip": null,
            "_model_module": "@jupyter-widgets/controls",
            "layout": "IPY_MODEL_9109233353e24f9598f4a9bb67044ac7"
          }
        },
        "5111217b828347dea68c5d714e08638d": {
          "model_module": "@jupyter-widgets/controls",
          "model_name": "HTMLModel",
          "model_module_version": "1.5.0",
          "state": {
            "_view_name": "HTMLView",
            "style": "IPY_MODEL_3b8061fd1bd8463084aa1a2877998d72",
            "_dom_classes": [],
            "description": "",
            "_model_name": "HTMLModel",
            "placeholder": "​",
            "_view_module": "@jupyter-widgets/controls",
            "_model_module_version": "1.5.0",
            "value": " 5000/5000 [00:36&lt;00:00, 139.87it/s]",
            "_view_count": null,
            "_view_module_version": "1.5.0",
            "description_tooltip": null,
            "_model_module": "@jupyter-widgets/controls",
            "layout": "IPY_MODEL_3b540e47a96447d0afb096a4f5e0d603"
          }
        },
        "a98aced7100b4525bd2534cc87cf56c7": {
          "model_module": "@jupyter-widgets/controls",
          "model_name": "DescriptionStyleModel",
          "model_module_version": "1.5.0",
          "state": {
            "_view_name": "StyleView",
            "_model_name": "DescriptionStyleModel",
            "description_width": "",
            "_view_module": "@jupyter-widgets/base",
            "_model_module_version": "1.5.0",
            "_view_count": null,
            "_view_module_version": "1.2.0",
            "_model_module": "@jupyter-widgets/controls"
          }
        },
        "da66a0b131c0496da91935281d3f8ede": {
          "model_module": "@jupyter-widgets/base",
          "model_name": "LayoutModel",
          "model_module_version": "1.2.0",
          "state": {
            "_view_name": "LayoutView",
            "grid_template_rows": null,
            "right": null,
            "justify_content": null,
            "_view_module": "@jupyter-widgets/base",
            "overflow": null,
            "_model_module_version": "1.2.0",
            "_view_count": null,
            "flex_flow": null,
            "width": null,
            "min_width": null,
            "border": null,
            "align_items": null,
            "bottom": null,
            "_model_module": "@jupyter-widgets/base",
            "top": null,
            "grid_column": null,
            "overflow_y": null,
            "overflow_x": null,
            "grid_auto_flow": null,
            "grid_area": null,
            "grid_template_columns": null,
            "flex": null,
            "_model_name": "LayoutModel",
            "justify_items": null,
            "grid_row": null,
            "max_height": null,
            "align_content": null,
            "visibility": null,
            "align_self": null,
            "height": null,
            "min_height": null,
            "padding": null,
            "grid_auto_rows": null,
            "grid_gap": null,
            "max_width": null,
            "order": null,
            "_view_module_version": "1.2.0",
            "grid_template_areas": null,
            "object_position": null,
            "object_fit": null,
            "grid_auto_columns": null,
            "margin": null,
            "display": null,
            "left": null
          }
        },
        "d5a99a0334fe47ffa5e8a6d722f216f8": {
          "model_module": "@jupyter-widgets/controls",
          "model_name": "ProgressStyleModel",
          "model_module_version": "1.5.0",
          "state": {
            "_view_name": "StyleView",
            "_model_name": "ProgressStyleModel",
            "description_width": "",
            "_view_module": "@jupyter-widgets/base",
            "_model_module_version": "1.5.0",
            "_view_count": null,
            "_view_module_version": "1.2.0",
            "bar_color": null,
            "_model_module": "@jupyter-widgets/controls"
          }
        },
        "9109233353e24f9598f4a9bb67044ac7": {
          "model_module": "@jupyter-widgets/base",
          "model_name": "LayoutModel",
          "model_module_version": "1.2.0",
          "state": {
            "_view_name": "LayoutView",
            "grid_template_rows": null,
            "right": null,
            "justify_content": null,
            "_view_module": "@jupyter-widgets/base",
            "overflow": null,
            "_model_module_version": "1.2.0",
            "_view_count": null,
            "flex_flow": null,
            "width": null,
            "min_width": null,
            "border": null,
            "align_items": null,
            "bottom": null,
            "_model_module": "@jupyter-widgets/base",
            "top": null,
            "grid_column": null,
            "overflow_y": null,
            "overflow_x": null,
            "grid_auto_flow": null,
            "grid_area": null,
            "grid_template_columns": null,
            "flex": null,
            "_model_name": "LayoutModel",
            "justify_items": null,
            "grid_row": null,
            "max_height": null,
            "align_content": null,
            "visibility": null,
            "align_self": null,
            "height": null,
            "min_height": null,
            "padding": null,
            "grid_auto_rows": null,
            "grid_gap": null,
            "max_width": null,
            "order": null,
            "_view_module_version": "1.2.0",
            "grid_template_areas": null,
            "object_position": null,
            "object_fit": null,
            "grid_auto_columns": null,
            "margin": null,
            "display": null,
            "left": null
          }
        },
        "3b8061fd1bd8463084aa1a2877998d72": {
          "model_module": "@jupyter-widgets/controls",
          "model_name": "DescriptionStyleModel",
          "model_module_version": "1.5.0",
          "state": {
            "_view_name": "StyleView",
            "_model_name": "DescriptionStyleModel",
            "description_width": "",
            "_view_module": "@jupyter-widgets/base",
            "_model_module_version": "1.5.0",
            "_view_count": null,
            "_view_module_version": "1.2.0",
            "_model_module": "@jupyter-widgets/controls"
          }
        },
        "3b540e47a96447d0afb096a4f5e0d603": {
          "model_module": "@jupyter-widgets/base",
          "model_name": "LayoutModel",
          "model_module_version": "1.2.0",
          "state": {
            "_view_name": "LayoutView",
            "grid_template_rows": null,
            "right": null,
            "justify_content": null,
            "_view_module": "@jupyter-widgets/base",
            "overflow": null,
            "_model_module_version": "1.2.0",
            "_view_count": null,
            "flex_flow": null,
            "width": null,
            "min_width": null,
            "border": null,
            "align_items": null,
            "bottom": null,
            "_model_module": "@jupyter-widgets/base",
            "top": null,
            "grid_column": null,
            "overflow_y": null,
            "overflow_x": null,
            "grid_auto_flow": null,
            "grid_area": null,
            "grid_template_columns": null,
            "flex": null,
            "_model_name": "LayoutModel",
            "justify_items": null,
            "grid_row": null,
            "max_height": null,
            "align_content": null,
            "visibility": null,
            "align_self": null,
            "height": null,
            "min_height": null,
            "padding": null,
            "grid_auto_rows": null,
            "grid_gap": null,
            "max_width": null,
            "order": null,
            "_view_module_version": "1.2.0",
            "grid_template_areas": null,
            "object_position": null,
            "object_fit": null,
            "grid_auto_columns": null,
            "margin": null,
            "display": null,
            "left": null
          }
        }
      }
    }
  },
  "cells": [
    {
      "cell_type": "markdown",
      "metadata": {
        "id": "_sZRa2ehY4rJ"
      },
      "source": [
        "# Lab 2 Assignment"
      ]
    },
    {
      "cell_type": "markdown",
      "metadata": {
        "id": "SJjTIYSHY4rL"
      },
      "source": [
        "**__Name:__ Mit Dani**\n"
      ]
    },
    {
      "cell_type": "markdown",
      "metadata": {
        "id": "XfGJ497SY4rM"
      },
      "source": [
        "In the assignment, you will analyze which factors are associated with the number of likes a Facebook post gets. The dataset is from https://archive.ics.uci.edu/ml/datasets/Facebook+metrics. All posts are from the page of a renowned cosmetics brand.\n",
        "\n",
        "The dependent variable is `like`."
      ]
    },
    {
      "cell_type": "code",
      "metadata": {
        "id": "Dg_djp4LY4rM"
      },
      "source": [
        "import pandas as pd\n",
        "import statsmodels.api as sm\n",
        "import numpy as np\n",
        "import matplotlib.pyplot as plt"
      ],
      "execution_count": 56,
      "outputs": []
    },
    {
      "cell_type": "code",
      "metadata": {
        "id": "Q6o_G3JgY4rN"
      },
      "source": [
        "fb_like = pd.read_csv('http://fengmai.net/download/data/bia652/dataset_Facebook.csv', sep=\";\")\n",
        "# remove unneeded variables\n",
        "not_needed = ['Page total likes', 'Total Interactions']\n",
        "fb_like = fb_like.drop(not_needed, axis = 1)"
      ],
      "execution_count": 57,
      "outputs": []
    },
    {
      "cell_type": "code",
      "metadata": {
        "scrolled": true,
        "id": "whaPV3lbY4rN",
        "colab": {
          "base_uri": "https://localhost:8080/",
          "height": 293
        },
        "outputId": "2a65a14a-7b40-4f8e-fe2a-4c91d58c7b72"
      },
      "source": [
        "fb_like.head(5)\n"
      ],
      "execution_count": 58,
      "outputs": [
        {
          "output_type": "execute_result",
          "data": {
            "text/html": [
              "<div>\n",
              "<style scoped>\n",
              "    .dataframe tbody tr th:only-of-type {\n",
              "        vertical-align: middle;\n",
              "    }\n",
              "\n",
              "    .dataframe tbody tr th {\n",
              "        vertical-align: top;\n",
              "    }\n",
              "\n",
              "    .dataframe thead th {\n",
              "        text-align: right;\n",
              "    }\n",
              "</style>\n",
              "<table border=\"1\" class=\"dataframe\">\n",
              "  <thead>\n",
              "    <tr style=\"text-align: right;\">\n",
              "      <th></th>\n",
              "      <th>Type</th>\n",
              "      <th>Category</th>\n",
              "      <th>Post Month</th>\n",
              "      <th>Post Weekday</th>\n",
              "      <th>Post Hour</th>\n",
              "      <th>Paid</th>\n",
              "      <th>Lifetime Post Total Reach</th>\n",
              "      <th>Lifetime Post Total Impressions</th>\n",
              "      <th>Lifetime Engaged Users</th>\n",
              "      <th>Lifetime Post Consumers</th>\n",
              "      <th>Lifetime Post Consumptions</th>\n",
              "      <th>Lifetime Post Impressions by people who have liked your Page</th>\n",
              "      <th>Lifetime Post reach by people who like your Page</th>\n",
              "      <th>Lifetime People who have liked your Page and engaged with your post</th>\n",
              "      <th>comment</th>\n",
              "      <th>like</th>\n",
              "      <th>share</th>\n",
              "    </tr>\n",
              "  </thead>\n",
              "  <tbody>\n",
              "    <tr>\n",
              "      <th>0</th>\n",
              "      <td>Photo</td>\n",
              "      <td>2</td>\n",
              "      <td>12</td>\n",
              "      <td>4</td>\n",
              "      <td>3</td>\n",
              "      <td>0.0</td>\n",
              "      <td>2752</td>\n",
              "      <td>5091</td>\n",
              "      <td>178</td>\n",
              "      <td>109</td>\n",
              "      <td>159</td>\n",
              "      <td>3078</td>\n",
              "      <td>1640</td>\n",
              "      <td>119</td>\n",
              "      <td>4</td>\n",
              "      <td>79.0</td>\n",
              "      <td>17.0</td>\n",
              "    </tr>\n",
              "    <tr>\n",
              "      <th>1</th>\n",
              "      <td>Status</td>\n",
              "      <td>2</td>\n",
              "      <td>12</td>\n",
              "      <td>3</td>\n",
              "      <td>10</td>\n",
              "      <td>0.0</td>\n",
              "      <td>10460</td>\n",
              "      <td>19057</td>\n",
              "      <td>1457</td>\n",
              "      <td>1361</td>\n",
              "      <td>1674</td>\n",
              "      <td>11710</td>\n",
              "      <td>6112</td>\n",
              "      <td>1108</td>\n",
              "      <td>5</td>\n",
              "      <td>130.0</td>\n",
              "      <td>29.0</td>\n",
              "    </tr>\n",
              "    <tr>\n",
              "      <th>2</th>\n",
              "      <td>Photo</td>\n",
              "      <td>3</td>\n",
              "      <td>12</td>\n",
              "      <td>3</td>\n",
              "      <td>3</td>\n",
              "      <td>0.0</td>\n",
              "      <td>2413</td>\n",
              "      <td>4373</td>\n",
              "      <td>177</td>\n",
              "      <td>113</td>\n",
              "      <td>154</td>\n",
              "      <td>2812</td>\n",
              "      <td>1503</td>\n",
              "      <td>132</td>\n",
              "      <td>0</td>\n",
              "      <td>66.0</td>\n",
              "      <td>14.0</td>\n",
              "    </tr>\n",
              "    <tr>\n",
              "      <th>3</th>\n",
              "      <td>Photo</td>\n",
              "      <td>2</td>\n",
              "      <td>12</td>\n",
              "      <td>2</td>\n",
              "      <td>10</td>\n",
              "      <td>1.0</td>\n",
              "      <td>50128</td>\n",
              "      <td>87991</td>\n",
              "      <td>2211</td>\n",
              "      <td>790</td>\n",
              "      <td>1119</td>\n",
              "      <td>61027</td>\n",
              "      <td>32048</td>\n",
              "      <td>1386</td>\n",
              "      <td>58</td>\n",
              "      <td>1572.0</td>\n",
              "      <td>147.0</td>\n",
              "    </tr>\n",
              "    <tr>\n",
              "      <th>4</th>\n",
              "      <td>Photo</td>\n",
              "      <td>2</td>\n",
              "      <td>12</td>\n",
              "      <td>2</td>\n",
              "      <td>3</td>\n",
              "      <td>0.0</td>\n",
              "      <td>7244</td>\n",
              "      <td>13594</td>\n",
              "      <td>671</td>\n",
              "      <td>410</td>\n",
              "      <td>580</td>\n",
              "      <td>6228</td>\n",
              "      <td>3200</td>\n",
              "      <td>396</td>\n",
              "      <td>19</td>\n",
              "      <td>325.0</td>\n",
              "      <td>49.0</td>\n",
              "    </tr>\n",
              "  </tbody>\n",
              "</table>\n",
              "</div>"
            ],
            "text/plain": [
              "     Type  Category  Post Month  ...  comment    like  share\n",
              "0   Photo         2          12  ...        4    79.0   17.0\n",
              "1  Status         2          12  ...        5   130.0   29.0\n",
              "2   Photo         3          12  ...        0    66.0   14.0\n",
              "3   Photo         2          12  ...       58  1572.0  147.0\n",
              "4   Photo         2          12  ...       19   325.0   49.0\n",
              "\n",
              "[5 rows x 17 columns]"
            ]
          },
          "metadata": {},
          "execution_count": 58
        }
      ]
    },
    {
      "cell_type": "markdown",
      "metadata": {
        "id": "AODx_Zd9Y4rN"
      },
      "source": [
        "## Q1 - Modeling with categorical Xs"
      ]
    },
    {
      "cell_type": "markdown",
      "metadata": {
        "id": "pPCuZkEjY4rO"
      },
      "source": [
        "- Use [pd.get_dummies()](https://pandas.pydata.org/pandas-docs/stable/reference/api/pandas.get_dummies.html) to create dummy variables for the following variables: `Type`, `Category`, `Post Month`, `Post Weekday`, `Post Hour`. Make sure that `drop_firt=True` to avoid multicollinearity problem.\n",
        "- You may want to read [this post](https://stackoverflow.com/questions/24109779/running-get-dummies-on-several-dataframe-columns) to create dummies for multiple columns.\n",
        "- The origninal columns will be automatically dropped after you create the dummies. \n",
        "- You may want to check if any rows have missing variables and drop them accordingly (use [dropna](https://pandas.pydata.org/pandas-docs/stable/reference/api/pandas.DataFrame.dropna.html)). \n",
        "- Create a regression model that uses all the variables (other than like) as independent variables. You'll need to use `statsmodels` and not `sklearn`. Display the OLS Regression Results.  \n",
        "- No need to split the data to train-test sets for this exercise. "
      ]
    },
    {
      "cell_type": "code",
      "metadata": {
        "id": "3TddedDdY4rO",
        "colab": {
          "base_uri": "https://localhost:8080/",
          "height": 600
        },
        "outputId": "72411a40-b319-4f6e-97a5-09204e82fa21"
      },
      "source": [
        "#### YOUR CODE HERE ####\n",
        "import statsmodels.api as sm\n",
        "fb_like = pd.get_dummies(data=fb_like, columns= ['Type','Category','Post Month','Post Weekday', 'Post Hour'], drop_first=True)\n",
        "fb_like= fb_like.dropna(axis = 0)\n",
        "fb_like"
      ],
      "execution_count": 59,
      "outputs": [
        {
          "output_type": "execute_result",
          "data": {
            "text/html": [
              "<div>\n",
              "<style scoped>\n",
              "    .dataframe tbody tr th:only-of-type {\n",
              "        vertical-align: middle;\n",
              "    }\n",
              "\n",
              "    .dataframe tbody tr th {\n",
              "        vertical-align: top;\n",
              "    }\n",
              "\n",
              "    .dataframe thead th {\n",
              "        text-align: right;\n",
              "    }\n",
              "</style>\n",
              "<table border=\"1\" class=\"dataframe\">\n",
              "  <thead>\n",
              "    <tr style=\"text-align: right;\">\n",
              "      <th></th>\n",
              "      <th>Paid</th>\n",
              "      <th>Lifetime Post Total Reach</th>\n",
              "      <th>Lifetime Post Total Impressions</th>\n",
              "      <th>Lifetime Engaged Users</th>\n",
              "      <th>Lifetime Post Consumers</th>\n",
              "      <th>Lifetime Post Consumptions</th>\n",
              "      <th>Lifetime Post Impressions by people who have liked your Page</th>\n",
              "      <th>Lifetime Post reach by people who like your Page</th>\n",
              "      <th>Lifetime People who have liked your Page and engaged with your post</th>\n",
              "      <th>comment</th>\n",
              "      <th>like</th>\n",
              "      <th>share</th>\n",
              "      <th>Type_Photo</th>\n",
              "      <th>Type_Status</th>\n",
              "      <th>Type_Video</th>\n",
              "      <th>Category_2</th>\n",
              "      <th>Category_3</th>\n",
              "      <th>Post Month_2</th>\n",
              "      <th>Post Month_3</th>\n",
              "      <th>Post Month_4</th>\n",
              "      <th>Post Month_5</th>\n",
              "      <th>Post Month_6</th>\n",
              "      <th>Post Month_7</th>\n",
              "      <th>Post Month_8</th>\n",
              "      <th>Post Month_9</th>\n",
              "      <th>Post Month_10</th>\n",
              "      <th>Post Month_11</th>\n",
              "      <th>Post Month_12</th>\n",
              "      <th>Post Weekday_2</th>\n",
              "      <th>Post Weekday_3</th>\n",
              "      <th>Post Weekday_4</th>\n",
              "      <th>Post Weekday_5</th>\n",
              "      <th>Post Weekday_6</th>\n",
              "      <th>Post Weekday_7</th>\n",
              "      <th>Post Hour_2</th>\n",
              "      <th>Post Hour_3</th>\n",
              "      <th>Post Hour_4</th>\n",
              "      <th>Post Hour_5</th>\n",
              "      <th>Post Hour_6</th>\n",
              "      <th>Post Hour_7</th>\n",
              "      <th>Post Hour_8</th>\n",
              "      <th>Post Hour_9</th>\n",
              "      <th>Post Hour_10</th>\n",
              "      <th>Post Hour_11</th>\n",
              "      <th>Post Hour_12</th>\n",
              "      <th>Post Hour_13</th>\n",
              "      <th>Post Hour_14</th>\n",
              "      <th>Post Hour_15</th>\n",
              "      <th>Post Hour_16</th>\n",
              "      <th>Post Hour_17</th>\n",
              "      <th>Post Hour_18</th>\n",
              "      <th>Post Hour_19</th>\n",
              "      <th>Post Hour_20</th>\n",
              "      <th>Post Hour_22</th>\n",
              "      <th>Post Hour_23</th>\n",
              "    </tr>\n",
              "  </thead>\n",
              "  <tbody>\n",
              "    <tr>\n",
              "      <th>0</th>\n",
              "      <td>0.0</td>\n",
              "      <td>2752</td>\n",
              "      <td>5091</td>\n",
              "      <td>178</td>\n",
              "      <td>109</td>\n",
              "      <td>159</td>\n",
              "      <td>3078</td>\n",
              "      <td>1640</td>\n",
              "      <td>119</td>\n",
              "      <td>4</td>\n",
              "      <td>79.0</td>\n",
              "      <td>17.0</td>\n",
              "      <td>1</td>\n",
              "      <td>0</td>\n",
              "      <td>0</td>\n",
              "      <td>1</td>\n",
              "      <td>0</td>\n",
              "      <td>0</td>\n",
              "      <td>0</td>\n",
              "      <td>0</td>\n",
              "      <td>0</td>\n",
              "      <td>0</td>\n",
              "      <td>0</td>\n",
              "      <td>0</td>\n",
              "      <td>0</td>\n",
              "      <td>0</td>\n",
              "      <td>0</td>\n",
              "      <td>1</td>\n",
              "      <td>0</td>\n",
              "      <td>0</td>\n",
              "      <td>1</td>\n",
              "      <td>0</td>\n",
              "      <td>0</td>\n",
              "      <td>0</td>\n",
              "      <td>0</td>\n",
              "      <td>1</td>\n",
              "      <td>0</td>\n",
              "      <td>0</td>\n",
              "      <td>0</td>\n",
              "      <td>0</td>\n",
              "      <td>0</td>\n",
              "      <td>0</td>\n",
              "      <td>0</td>\n",
              "      <td>0</td>\n",
              "      <td>0</td>\n",
              "      <td>0</td>\n",
              "      <td>0</td>\n",
              "      <td>0</td>\n",
              "      <td>0</td>\n",
              "      <td>0</td>\n",
              "      <td>0</td>\n",
              "      <td>0</td>\n",
              "      <td>0</td>\n",
              "      <td>0</td>\n",
              "      <td>0</td>\n",
              "    </tr>\n",
              "    <tr>\n",
              "      <th>1</th>\n",
              "      <td>0.0</td>\n",
              "      <td>10460</td>\n",
              "      <td>19057</td>\n",
              "      <td>1457</td>\n",
              "      <td>1361</td>\n",
              "      <td>1674</td>\n",
              "      <td>11710</td>\n",
              "      <td>6112</td>\n",
              "      <td>1108</td>\n",
              "      <td>5</td>\n",
              "      <td>130.0</td>\n",
              "      <td>29.0</td>\n",
              "      <td>0</td>\n",
              "      <td>1</td>\n",
              "      <td>0</td>\n",
              "      <td>1</td>\n",
              "      <td>0</td>\n",
              "      <td>0</td>\n",
              "      <td>0</td>\n",
              "      <td>0</td>\n",
              "      <td>0</td>\n",
              "      <td>0</td>\n",
              "      <td>0</td>\n",
              "      <td>0</td>\n",
              "      <td>0</td>\n",
              "      <td>0</td>\n",
              "      <td>0</td>\n",
              "      <td>1</td>\n",
              "      <td>0</td>\n",
              "      <td>1</td>\n",
              "      <td>0</td>\n",
              "      <td>0</td>\n",
              "      <td>0</td>\n",
              "      <td>0</td>\n",
              "      <td>0</td>\n",
              "      <td>0</td>\n",
              "      <td>0</td>\n",
              "      <td>0</td>\n",
              "      <td>0</td>\n",
              "      <td>0</td>\n",
              "      <td>0</td>\n",
              "      <td>0</td>\n",
              "      <td>1</td>\n",
              "      <td>0</td>\n",
              "      <td>0</td>\n",
              "      <td>0</td>\n",
              "      <td>0</td>\n",
              "      <td>0</td>\n",
              "      <td>0</td>\n",
              "      <td>0</td>\n",
              "      <td>0</td>\n",
              "      <td>0</td>\n",
              "      <td>0</td>\n",
              "      <td>0</td>\n",
              "      <td>0</td>\n",
              "    </tr>\n",
              "    <tr>\n",
              "      <th>2</th>\n",
              "      <td>0.0</td>\n",
              "      <td>2413</td>\n",
              "      <td>4373</td>\n",
              "      <td>177</td>\n",
              "      <td>113</td>\n",
              "      <td>154</td>\n",
              "      <td>2812</td>\n",
              "      <td>1503</td>\n",
              "      <td>132</td>\n",
              "      <td>0</td>\n",
              "      <td>66.0</td>\n",
              "      <td>14.0</td>\n",
              "      <td>1</td>\n",
              "      <td>0</td>\n",
              "      <td>0</td>\n",
              "      <td>0</td>\n",
              "      <td>1</td>\n",
              "      <td>0</td>\n",
              "      <td>0</td>\n",
              "      <td>0</td>\n",
              "      <td>0</td>\n",
              "      <td>0</td>\n",
              "      <td>0</td>\n",
              "      <td>0</td>\n",
              "      <td>0</td>\n",
              "      <td>0</td>\n",
              "      <td>0</td>\n",
              "      <td>1</td>\n",
              "      <td>0</td>\n",
              "      <td>1</td>\n",
              "      <td>0</td>\n",
              "      <td>0</td>\n",
              "      <td>0</td>\n",
              "      <td>0</td>\n",
              "      <td>0</td>\n",
              "      <td>1</td>\n",
              "      <td>0</td>\n",
              "      <td>0</td>\n",
              "      <td>0</td>\n",
              "      <td>0</td>\n",
              "      <td>0</td>\n",
              "      <td>0</td>\n",
              "      <td>0</td>\n",
              "      <td>0</td>\n",
              "      <td>0</td>\n",
              "      <td>0</td>\n",
              "      <td>0</td>\n",
              "      <td>0</td>\n",
              "      <td>0</td>\n",
              "      <td>0</td>\n",
              "      <td>0</td>\n",
              "      <td>0</td>\n",
              "      <td>0</td>\n",
              "      <td>0</td>\n",
              "      <td>0</td>\n",
              "    </tr>\n",
              "    <tr>\n",
              "      <th>3</th>\n",
              "      <td>1.0</td>\n",
              "      <td>50128</td>\n",
              "      <td>87991</td>\n",
              "      <td>2211</td>\n",
              "      <td>790</td>\n",
              "      <td>1119</td>\n",
              "      <td>61027</td>\n",
              "      <td>32048</td>\n",
              "      <td>1386</td>\n",
              "      <td>58</td>\n",
              "      <td>1572.0</td>\n",
              "      <td>147.0</td>\n",
              "      <td>1</td>\n",
              "      <td>0</td>\n",
              "      <td>0</td>\n",
              "      <td>1</td>\n",
              "      <td>0</td>\n",
              "      <td>0</td>\n",
              "      <td>0</td>\n",
              "      <td>0</td>\n",
              "      <td>0</td>\n",
              "      <td>0</td>\n",
              "      <td>0</td>\n",
              "      <td>0</td>\n",
              "      <td>0</td>\n",
              "      <td>0</td>\n",
              "      <td>0</td>\n",
              "      <td>1</td>\n",
              "      <td>1</td>\n",
              "      <td>0</td>\n",
              "      <td>0</td>\n",
              "      <td>0</td>\n",
              "      <td>0</td>\n",
              "      <td>0</td>\n",
              "      <td>0</td>\n",
              "      <td>0</td>\n",
              "      <td>0</td>\n",
              "      <td>0</td>\n",
              "      <td>0</td>\n",
              "      <td>0</td>\n",
              "      <td>0</td>\n",
              "      <td>0</td>\n",
              "      <td>1</td>\n",
              "      <td>0</td>\n",
              "      <td>0</td>\n",
              "      <td>0</td>\n",
              "      <td>0</td>\n",
              "      <td>0</td>\n",
              "      <td>0</td>\n",
              "      <td>0</td>\n",
              "      <td>0</td>\n",
              "      <td>0</td>\n",
              "      <td>0</td>\n",
              "      <td>0</td>\n",
              "      <td>0</td>\n",
              "    </tr>\n",
              "    <tr>\n",
              "      <th>4</th>\n",
              "      <td>0.0</td>\n",
              "      <td>7244</td>\n",
              "      <td>13594</td>\n",
              "      <td>671</td>\n",
              "      <td>410</td>\n",
              "      <td>580</td>\n",
              "      <td>6228</td>\n",
              "      <td>3200</td>\n",
              "      <td>396</td>\n",
              "      <td>19</td>\n",
              "      <td>325.0</td>\n",
              "      <td>49.0</td>\n",
              "      <td>1</td>\n",
              "      <td>0</td>\n",
              "      <td>0</td>\n",
              "      <td>1</td>\n",
              "      <td>0</td>\n",
              "      <td>0</td>\n",
              "      <td>0</td>\n",
              "      <td>0</td>\n",
              "      <td>0</td>\n",
              "      <td>0</td>\n",
              "      <td>0</td>\n",
              "      <td>0</td>\n",
              "      <td>0</td>\n",
              "      <td>0</td>\n",
              "      <td>0</td>\n",
              "      <td>1</td>\n",
              "      <td>1</td>\n",
              "      <td>0</td>\n",
              "      <td>0</td>\n",
              "      <td>0</td>\n",
              "      <td>0</td>\n",
              "      <td>0</td>\n",
              "      <td>0</td>\n",
              "      <td>1</td>\n",
              "      <td>0</td>\n",
              "      <td>0</td>\n",
              "      <td>0</td>\n",
              "      <td>0</td>\n",
              "      <td>0</td>\n",
              "      <td>0</td>\n",
              "      <td>0</td>\n",
              "      <td>0</td>\n",
              "      <td>0</td>\n",
              "      <td>0</td>\n",
              "      <td>0</td>\n",
              "      <td>0</td>\n",
              "      <td>0</td>\n",
              "      <td>0</td>\n",
              "      <td>0</td>\n",
              "      <td>0</td>\n",
              "      <td>0</td>\n",
              "      <td>0</td>\n",
              "      <td>0</td>\n",
              "    </tr>\n",
              "    <tr>\n",
              "      <th>...</th>\n",
              "      <td>...</td>\n",
              "      <td>...</td>\n",
              "      <td>...</td>\n",
              "      <td>...</td>\n",
              "      <td>...</td>\n",
              "      <td>...</td>\n",
              "      <td>...</td>\n",
              "      <td>...</td>\n",
              "      <td>...</td>\n",
              "      <td>...</td>\n",
              "      <td>...</td>\n",
              "      <td>...</td>\n",
              "      <td>...</td>\n",
              "      <td>...</td>\n",
              "      <td>...</td>\n",
              "      <td>...</td>\n",
              "      <td>...</td>\n",
              "      <td>...</td>\n",
              "      <td>...</td>\n",
              "      <td>...</td>\n",
              "      <td>...</td>\n",
              "      <td>...</td>\n",
              "      <td>...</td>\n",
              "      <td>...</td>\n",
              "      <td>...</td>\n",
              "      <td>...</td>\n",
              "      <td>...</td>\n",
              "      <td>...</td>\n",
              "      <td>...</td>\n",
              "      <td>...</td>\n",
              "      <td>...</td>\n",
              "      <td>...</td>\n",
              "      <td>...</td>\n",
              "      <td>...</td>\n",
              "      <td>...</td>\n",
              "      <td>...</td>\n",
              "      <td>...</td>\n",
              "      <td>...</td>\n",
              "      <td>...</td>\n",
              "      <td>...</td>\n",
              "      <td>...</td>\n",
              "      <td>...</td>\n",
              "      <td>...</td>\n",
              "      <td>...</td>\n",
              "      <td>...</td>\n",
              "      <td>...</td>\n",
              "      <td>...</td>\n",
              "      <td>...</td>\n",
              "      <td>...</td>\n",
              "      <td>...</td>\n",
              "      <td>...</td>\n",
              "      <td>...</td>\n",
              "      <td>...</td>\n",
              "      <td>...</td>\n",
              "      <td>...</td>\n",
              "    </tr>\n",
              "    <tr>\n",
              "      <th>494</th>\n",
              "      <td>0.0</td>\n",
              "      <td>5400</td>\n",
              "      <td>9218</td>\n",
              "      <td>810</td>\n",
              "      <td>756</td>\n",
              "      <td>1003</td>\n",
              "      <td>5654</td>\n",
              "      <td>3230</td>\n",
              "      <td>422</td>\n",
              "      <td>10</td>\n",
              "      <td>125.0</td>\n",
              "      <td>41.0</td>\n",
              "      <td>1</td>\n",
              "      <td>0</td>\n",
              "      <td>0</td>\n",
              "      <td>0</td>\n",
              "      <td>1</td>\n",
              "      <td>0</td>\n",
              "      <td>0</td>\n",
              "      <td>0</td>\n",
              "      <td>0</td>\n",
              "      <td>0</td>\n",
              "      <td>0</td>\n",
              "      <td>0</td>\n",
              "      <td>0</td>\n",
              "      <td>0</td>\n",
              "      <td>0</td>\n",
              "      <td>0</td>\n",
              "      <td>0</td>\n",
              "      <td>0</td>\n",
              "      <td>0</td>\n",
              "      <td>0</td>\n",
              "      <td>0</td>\n",
              "      <td>1</td>\n",
              "      <td>0</td>\n",
              "      <td>0</td>\n",
              "      <td>0</td>\n",
              "      <td>0</td>\n",
              "      <td>0</td>\n",
              "      <td>0</td>\n",
              "      <td>0</td>\n",
              "      <td>0</td>\n",
              "      <td>1</td>\n",
              "      <td>0</td>\n",
              "      <td>0</td>\n",
              "      <td>0</td>\n",
              "      <td>0</td>\n",
              "      <td>0</td>\n",
              "      <td>0</td>\n",
              "      <td>0</td>\n",
              "      <td>0</td>\n",
              "      <td>0</td>\n",
              "      <td>0</td>\n",
              "      <td>0</td>\n",
              "      <td>0</td>\n",
              "    </tr>\n",
              "    <tr>\n",
              "      <th>495</th>\n",
              "      <td>0.0</td>\n",
              "      <td>4684</td>\n",
              "      <td>7536</td>\n",
              "      <td>733</td>\n",
              "      <td>708</td>\n",
              "      <td>985</td>\n",
              "      <td>4750</td>\n",
              "      <td>2876</td>\n",
              "      <td>392</td>\n",
              "      <td>5</td>\n",
              "      <td>53.0</td>\n",
              "      <td>26.0</td>\n",
              "      <td>1</td>\n",
              "      <td>0</td>\n",
              "      <td>0</td>\n",
              "      <td>0</td>\n",
              "      <td>1</td>\n",
              "      <td>0</td>\n",
              "      <td>0</td>\n",
              "      <td>0</td>\n",
              "      <td>0</td>\n",
              "      <td>0</td>\n",
              "      <td>0</td>\n",
              "      <td>0</td>\n",
              "      <td>0</td>\n",
              "      <td>0</td>\n",
              "      <td>0</td>\n",
              "      <td>0</td>\n",
              "      <td>0</td>\n",
              "      <td>0</td>\n",
              "      <td>0</td>\n",
              "      <td>0</td>\n",
              "      <td>0</td>\n",
              "      <td>1</td>\n",
              "      <td>1</td>\n",
              "      <td>0</td>\n",
              "      <td>0</td>\n",
              "      <td>0</td>\n",
              "      <td>0</td>\n",
              "      <td>0</td>\n",
              "      <td>0</td>\n",
              "      <td>0</td>\n",
              "      <td>0</td>\n",
              "      <td>0</td>\n",
              "      <td>0</td>\n",
              "      <td>0</td>\n",
              "      <td>0</td>\n",
              "      <td>0</td>\n",
              "      <td>0</td>\n",
              "      <td>0</td>\n",
              "      <td>0</td>\n",
              "      <td>0</td>\n",
              "      <td>0</td>\n",
              "      <td>0</td>\n",
              "      <td>0</td>\n",
              "    </tr>\n",
              "    <tr>\n",
              "      <th>496</th>\n",
              "      <td>0.0</td>\n",
              "      <td>3480</td>\n",
              "      <td>6229</td>\n",
              "      <td>537</td>\n",
              "      <td>508</td>\n",
              "      <td>687</td>\n",
              "      <td>3961</td>\n",
              "      <td>2104</td>\n",
              "      <td>301</td>\n",
              "      <td>0</td>\n",
              "      <td>53.0</td>\n",
              "      <td>22.0</td>\n",
              "      <td>1</td>\n",
              "      <td>0</td>\n",
              "      <td>0</td>\n",
              "      <td>1</td>\n",
              "      <td>0</td>\n",
              "      <td>0</td>\n",
              "      <td>0</td>\n",
              "      <td>0</td>\n",
              "      <td>0</td>\n",
              "      <td>0</td>\n",
              "      <td>0</td>\n",
              "      <td>0</td>\n",
              "      <td>0</td>\n",
              "      <td>0</td>\n",
              "      <td>0</td>\n",
              "      <td>0</td>\n",
              "      <td>0</td>\n",
              "      <td>0</td>\n",
              "      <td>0</td>\n",
              "      <td>1</td>\n",
              "      <td>0</td>\n",
              "      <td>0</td>\n",
              "      <td>0</td>\n",
              "      <td>0</td>\n",
              "      <td>0</td>\n",
              "      <td>0</td>\n",
              "      <td>0</td>\n",
              "      <td>0</td>\n",
              "      <td>1</td>\n",
              "      <td>0</td>\n",
              "      <td>0</td>\n",
              "      <td>0</td>\n",
              "      <td>0</td>\n",
              "      <td>0</td>\n",
              "      <td>0</td>\n",
              "      <td>0</td>\n",
              "      <td>0</td>\n",
              "      <td>0</td>\n",
              "      <td>0</td>\n",
              "      <td>0</td>\n",
              "      <td>0</td>\n",
              "      <td>0</td>\n",
              "      <td>0</td>\n",
              "    </tr>\n",
              "    <tr>\n",
              "      <th>497</th>\n",
              "      <td>0.0</td>\n",
              "      <td>3778</td>\n",
              "      <td>7216</td>\n",
              "      <td>625</td>\n",
              "      <td>572</td>\n",
              "      <td>795</td>\n",
              "      <td>4742</td>\n",
              "      <td>2388</td>\n",
              "      <td>363</td>\n",
              "      <td>4</td>\n",
              "      <td>93.0</td>\n",
              "      <td>18.0</td>\n",
              "      <td>1</td>\n",
              "      <td>0</td>\n",
              "      <td>0</td>\n",
              "      <td>0</td>\n",
              "      <td>0</td>\n",
              "      <td>0</td>\n",
              "      <td>0</td>\n",
              "      <td>0</td>\n",
              "      <td>0</td>\n",
              "      <td>0</td>\n",
              "      <td>0</td>\n",
              "      <td>0</td>\n",
              "      <td>0</td>\n",
              "      <td>0</td>\n",
              "      <td>0</td>\n",
              "      <td>0</td>\n",
              "      <td>0</td>\n",
              "      <td>0</td>\n",
              "      <td>0</td>\n",
              "      <td>1</td>\n",
              "      <td>0</td>\n",
              "      <td>0</td>\n",
              "      <td>1</td>\n",
              "      <td>0</td>\n",
              "      <td>0</td>\n",
              "      <td>0</td>\n",
              "      <td>0</td>\n",
              "      <td>0</td>\n",
              "      <td>0</td>\n",
              "      <td>0</td>\n",
              "      <td>0</td>\n",
              "      <td>0</td>\n",
              "      <td>0</td>\n",
              "      <td>0</td>\n",
              "      <td>0</td>\n",
              "      <td>0</td>\n",
              "      <td>0</td>\n",
              "      <td>0</td>\n",
              "      <td>0</td>\n",
              "      <td>0</td>\n",
              "      <td>0</td>\n",
              "      <td>0</td>\n",
              "      <td>0</td>\n",
              "    </tr>\n",
              "    <tr>\n",
              "      <th>498</th>\n",
              "      <td>0.0</td>\n",
              "      <td>4156</td>\n",
              "      <td>7564</td>\n",
              "      <td>626</td>\n",
              "      <td>574</td>\n",
              "      <td>832</td>\n",
              "      <td>4534</td>\n",
              "      <td>2452</td>\n",
              "      <td>370</td>\n",
              "      <td>7</td>\n",
              "      <td>91.0</td>\n",
              "      <td>38.0</td>\n",
              "      <td>1</td>\n",
              "      <td>0</td>\n",
              "      <td>0</td>\n",
              "      <td>0</td>\n",
              "      <td>1</td>\n",
              "      <td>0</td>\n",
              "      <td>0</td>\n",
              "      <td>0</td>\n",
              "      <td>0</td>\n",
              "      <td>0</td>\n",
              "      <td>0</td>\n",
              "      <td>0</td>\n",
              "      <td>0</td>\n",
              "      <td>0</td>\n",
              "      <td>0</td>\n",
              "      <td>0</td>\n",
              "      <td>0</td>\n",
              "      <td>0</td>\n",
              "      <td>1</td>\n",
              "      <td>0</td>\n",
              "      <td>0</td>\n",
              "      <td>0</td>\n",
              "      <td>0</td>\n",
              "      <td>0</td>\n",
              "      <td>0</td>\n",
              "      <td>0</td>\n",
              "      <td>0</td>\n",
              "      <td>0</td>\n",
              "      <td>0</td>\n",
              "      <td>0</td>\n",
              "      <td>0</td>\n",
              "      <td>1</td>\n",
              "      <td>0</td>\n",
              "      <td>0</td>\n",
              "      <td>0</td>\n",
              "      <td>0</td>\n",
              "      <td>0</td>\n",
              "      <td>0</td>\n",
              "      <td>0</td>\n",
              "      <td>0</td>\n",
              "      <td>0</td>\n",
              "      <td>0</td>\n",
              "      <td>0</td>\n",
              "    </tr>\n",
              "  </tbody>\n",
              "</table>\n",
              "<p>495 rows × 55 columns</p>\n",
              "</div>"
            ],
            "text/plain": [
              "     Paid  Lifetime Post Total Reach  ...  Post Hour_22  Post Hour_23\n",
              "0     0.0                       2752  ...             0             0\n",
              "1     0.0                      10460  ...             0             0\n",
              "2     0.0                       2413  ...             0             0\n",
              "3     1.0                      50128  ...             0             0\n",
              "4     0.0                       7244  ...             0             0\n",
              "..    ...                        ...  ...           ...           ...\n",
              "494   0.0                       5400  ...             0             0\n",
              "495   0.0                       4684  ...             0             0\n",
              "496   0.0                       3480  ...             0             0\n",
              "497   0.0                       3778  ...             0             0\n",
              "498   0.0                       4156  ...             0             0\n",
              "\n",
              "[495 rows x 55 columns]"
            ]
          },
          "metadata": {},
          "execution_count": 59
        }
      ]
    },
    {
      "cell_type": "code",
      "metadata": {
        "id": "qIhWNoaqVckA",
        "colab": {
          "base_uri": "https://localhost:8080/"
        },
        "outputId": "889b0f4f-3803-4f6f-9260-0664f387676b"
      },
      "source": [
        "Y = fb_like['like']\n",
        "X = fb_like.drop(columns='like',axis=1)\n",
        "x = sm.add_constant(X)\n",
        "model = sm.OLS(Y,x)\n",
        "results = model.fit()\n",
        "print(results.summary())\n"
      ],
      "execution_count": 60,
      "outputs": [
        {
          "output_type": "stream",
          "name": "stdout",
          "text": [
            "                            OLS Regression Results                            \n",
            "==============================================================================\n",
            "Dep. Variable:                   like   R-squared:                       0.991\n",
            "Model:                            OLS   Adj. R-squared:                  0.990\n",
            "Method:                 Least Squares   F-statistic:                     937.5\n",
            "Date:                Mon, 22 Nov 2021   Prob (F-statistic):               0.00\n",
            "Time:                        02:50:44   Log-Likelihood:                -2387.3\n",
            "No. Observations:                 495   AIC:                             4885.\n",
            "Df Residuals:                     440   BIC:                             5116.\n",
            "Df Model:                          54                                         \n",
            "Covariance Type:            nonrobust                                         \n",
            "=======================================================================================================================================\n",
            "                                                                          coef    std err          t      P>|t|      [0.025      0.975]\n",
            "---------------------------------------------------------------------------------------------------------------------------------------\n",
            "const                                                                  -5.9270     19.916     -0.298      0.766     -45.070      33.216\n",
            "Paid                                                                    0.2966      3.424      0.087      0.931      -6.434       7.027\n",
            "Lifetime Post Total Reach                                              -0.0005      0.000     -1.492      0.136      -0.001       0.000\n",
            "Lifetime Post Total Impressions                                      6.861e-05      0.000      0.618      0.537      -0.000       0.000\n",
            "Lifetime Engaged Users                                                  0.9812      0.016     62.388      0.000       0.950       1.012\n",
            "Lifetime Post Consumers                                                -0.9818      0.015    -64.367      0.000      -1.012      -0.952\n",
            "Lifetime Post Consumptions                                              0.0048      0.001      4.185      0.000       0.003       0.007\n",
            "Lifetime Post Impressions by people who have liked your Page        -6.614e-05      0.000     -0.556      0.579      -0.000       0.000\n",
            "Lifetime Post reach by people who like your Page                        0.0010      0.001      1.576      0.116      -0.000       0.002\n",
            "Lifetime People who have liked your Page and engaged with your post     0.0341      0.007      4.762      0.000       0.020       0.048\n",
            "comment                                                                 0.8360      0.152      5.488      0.000       0.537       1.135\n",
            "share                                                                   1.1576      0.095     12.178      0.000       0.971       1.344\n",
            "Type_Photo                                                            -10.9487      7.716     -1.419      0.157     -26.113       4.215\n",
            "Type_Status                                                           -37.9881     11.181     -3.398      0.001     -59.963     -16.013\n",
            "Type_Video                                                              3.6095     15.242      0.237      0.813     -26.346      33.565\n",
            "Category_2                                                             10.4000      4.783      2.175      0.030       1.000      19.800\n",
            "Category_3                                                             11.3567      4.333      2.621      0.009       2.841      19.872\n",
            "Post Month_2                                                           13.4233     10.214      1.314      0.189      -6.650      33.497\n",
            "Post Month_3                                                           10.0742     10.468      0.962      0.336     -10.500      30.648\n",
            "Post Month_4                                                           10.9776      8.696      1.262      0.207      -6.112      28.067\n",
            "Post Month_5                                                           13.7234      8.983      1.528      0.127      -3.931      31.378\n",
            "Post Month_6                                                            1.5441      8.727      0.177      0.860     -15.608      18.697\n",
            "Post Month_7                                                            6.0394      8.810      0.686      0.493     -11.275      23.354\n",
            "Post Month_8                                                           10.1974      9.440      1.080      0.281      -8.355      28.750\n",
            "Post Month_9                                                           13.9496      9.386      1.486      0.138      -4.498      32.397\n",
            "Post Month_10                                                          17.5328      8.761      2.001      0.046       0.314      34.752\n",
            "Post Month_11                                                          -2.6575      9.380     -0.283      0.777     -21.092      15.777\n",
            "Post Month_12                                                         -10.6648      9.053     -1.178      0.239     -28.458       7.128\n",
            "Post Weekday_2                                                         -1.6845      5.880     -0.286      0.775     -13.240       9.871\n",
            "Post Weekday_3                                                          2.4969      5.925      0.421      0.674      -9.149      14.143\n",
            "Post Weekday_4                                                          4.9301      5.733      0.860      0.390      -6.338      16.198\n",
            "Post Weekday_5                                                         -3.1533      5.826     -0.541      0.589     -14.603       8.297\n",
            "Post Weekday_6                                                         -2.8285      5.613     -0.504      0.615     -13.859       8.203\n",
            "Post Weekday_7                                                         -4.2242      5.471     -0.772      0.440     -14.977       6.528\n",
            "Post Hour_2                                                             1.6236     17.314      0.094      0.925     -32.405      35.652\n",
            "Post Hour_3                                                            -1.4974     16.691     -0.090      0.929     -34.302      31.307\n",
            "Post Hour_4                                                             2.6211     17.322      0.151      0.880     -31.422      36.664\n",
            "Post Hour_5                                                           -12.9369     18.719     -0.691      0.490     -49.727      23.853\n",
            "Post Hour_6                                                            13.3447     18.494      0.722      0.471     -23.003      49.692\n",
            "Post Hour_7                                                            -3.8571     18.708     -0.206      0.837     -40.626      32.911\n",
            "Post Hour_8                                                            -0.4901     18.936     -0.026      0.979     -37.707      36.727\n",
            "Post Hour_9                                                            -6.5012     17.461     -0.372      0.710     -40.819      27.817\n",
            "Post Hour_10                                                           -3.8933     16.823     -0.231      0.817     -36.957      29.170\n",
            "Post Hour_11                                                            0.5027     17.075      0.029      0.977     -33.057      34.062\n",
            "Post Hour_12                                                           -7.8919     17.536     -0.450      0.653     -42.357      26.573\n",
            "Post Hour_13                                                           -0.0621     17.029     -0.004      0.997     -33.530      33.406\n",
            "Post Hour_14                                                           -0.6347     18.885     -0.034      0.973     -37.751      36.481\n",
            "Post Hour_15                                                            1.6032     22.089      0.073      0.942     -41.811      45.017\n",
            "Post Hour_16                                                           -5.9786     37.052     -0.161      0.872     -78.799      66.842\n",
            "Post Hour_17                                                           33.6910     26.489      1.272      0.204     -18.370      85.753\n",
            "Post Hour_18                                                            1.2307     26.351      0.047      0.963     -50.558      53.019\n",
            "Post Hour_19                                                            0.3705     36.973      0.010      0.992     -72.296      73.037\n",
            "Post Hour_20                                                           29.9103     36.483      0.820      0.413     -41.792     101.613\n",
            "Post Hour_22                                                           -0.7754     36.664     -0.021      0.983     -72.834      71.283\n",
            "Post Hour_23                                                            3.6164     36.280      0.100      0.921     -67.688      74.921\n",
            "==============================================================================\n",
            "Omnibus:                      370.229   Durbin-Watson:                   2.000\n",
            "Prob(Omnibus):                  0.000   Jarque-Bera (JB):            19986.751\n",
            "Skew:                           2.653   Prob(JB):                         0.00\n",
            "Kurtosis:                      33.674   Cond. No.                     5.66e+06\n",
            "==============================================================================\n",
            "\n",
            "Warnings:\n",
            "[1] Standard Errors assume that the covariance matrix of the errors is correctly specified.\n",
            "[2] The condition number is large, 5.66e+06. This might indicate that there are\n",
            "strong multicollinearity or other numerical problems.\n"
          ]
        }
      ]
    },
    {
      "cell_type": "markdown",
      "metadata": {
        "id": "H-hwxfFSY4rP"
      },
      "source": [
        "# Q2 Bootstrap confidence interval"
      ]
    },
    {
      "cell_type": "markdown",
      "metadata": {
        "id": "63wvJe2qY4rP"
      },
      "source": [
        "Your tasks is to use the boostrap method to construct a 95% CI for the coefficients for **comment** and **share** using the same model as in Q1. Do you get similar CI to Q1? Why or why not?"
      ]
    },
    {
      "cell_type": "code",
      "metadata": {
        "id": "qkEK0Y2XY4rP",
        "colab": {
          "base_uri": "https://localhost:8080/",
          "height": 84,
          "referenced_widgets": [
            "1932290196c7486b9a9b6a7683297df0",
            "0dd690cf140b49f493e55ad9f6422240",
            "6de650f13e2540238619c724eaef7356",
            "15eb86d2af9446fda83aa1dbf3456e1b",
            "5111217b828347dea68c5d714e08638d",
            "a98aced7100b4525bd2534cc87cf56c7",
            "da66a0b131c0496da91935281d3f8ede",
            "d5a99a0334fe47ffa5e8a6d722f216f8",
            "9109233353e24f9598f4a9bb67044ac7",
            "3b8061fd1bd8463084aa1a2877998d72",
            "3b540e47a96447d0afb096a4f5e0d603"
          ]
        },
        "outputId": "a4480431-c8ae-487c-f181-97169d122783"
      },
      "source": [
        "from tqdm.auto import tqdm\n",
        "import statsmodels.formula.api as smf\n",
        "bootstrapped_ests = []\n",
        "for i in tqdm(range(5000)):\n",
        "    # YOUR CODE HERE\n",
        "    fb_like_boot = fb_like.sample(n=len(fb_like), replace=True)\n",
        "    fb_like_boot = smf.ols(formula='like ~ comment + share', data=fb_like_boot).fit()\n",
        "    bootstrapped_ests.append(fb_like_boot.params[['comment', 'share']])\n",
        "\n",
        "\n",
        "    \n",
        "b_comments, b_shares = zip(*bootstrapped_ests)\n",
        " \n",
        "print(\"The 95% bootstrapped CI of b_comments is [{:.2f}, {:.2f}].\".format(\n",
        "    np.percentile(b_comments, 2.5),\n",
        "    np.percentile(b_comments, 97.5)))\n",
        "\n",
        "print(\"The 95% bootstrapped CI of b_shares is [{:.2f}, {:.2f}].\".format(\n",
        "    np.percentile(b_shares, 2.5),\n",
        "    np.percentile(b_shares, 97.5)))\n"
      ],
      "execution_count": 61,
      "outputs": [
        {
          "output_type": "display_data",
          "data": {
            "application/vnd.jupyter.widget-view+json": {
              "model_id": "1932290196c7486b9a9b6a7683297df0",
              "version_minor": 0,
              "version_major": 2
            },
            "text/plain": [
              "  0%|          | 0/5000 [00:00<?, ?it/s]"
            ]
          },
          "metadata": {}
        },
        {
          "output_type": "stream",
          "name": "stdout",
          "text": [
            "The 95% bootstrapped CI of b_comments is [2.06, 5.47].\n",
            "The 95% bootstrapped CI of b_shares is [4.70, 7.00].\n"
          ]
        }
      ]
    },
    {
      "cell_type": "markdown",
      "metadata": {
        "id": "EQ7kh9Y0mAHF"
      },
      "source": [
        "**The OLS confidence interval assumes a normal distribution of coefficient estimators. The bootstrap characterizes the empirical distribution of coefficient estimators (which could be non-normal). As a result, if some OLS assumptions are violated (conditional normality, homoscedasticity, and independent observations), the empirical distribution of coefficient estimators will deviate from the theoretical normal distribution, as would the confidence interval.**"
      ]
    },
    {
      "cell_type": "markdown",
      "metadata": {
        "id": "N8f8FrIcY4rP"
      },
      "source": [
        "## Q3 - Use AIC/BIC for model selection"
      ]
    },
    {
      "cell_type": "markdown",
      "metadata": {
        "id": "mMNmNYBTY4rQ"
      },
      "source": [
        "- Read the [example here](https://scikit-learn.org/stable/auto_examples/linear_model/plot_lasso_model_selection.html#sphx-glr-auto-examples-linear-model-plot-lasso-model-selection-py) and the [manual here](https://scikit-learn.org/stable/modules/generated/sklearn.linear_model.LassoLarsIC.html#sklearn.linear_model.LassoLarsIC). You may want to create a separate notebook to run the example.\n",
        "- Use `LassoLarsIC` to select the best model using the **`bic`** criterion. \n",
        "- There is no need to split the data to train-test sets for this exercise. \n",
        "- Which X variables are selected by the `LassoLarsIC` method? Answer using variable names. "
      ]
    },
    {
      "cell_type": "code",
      "metadata": {
        "id": "2GyMlgKeY4rQ",
        "colab": {
          "base_uri": "https://localhost:8080/"
        },
        "outputId": "de0ac089-abce-46ca-c711-68ce5de781b3"
      },
      "source": [
        "#### YOUR CODE HERE ####\n",
        "from sklearn.linear_model import LassoLarsIC, LassoCV\n",
        "from sklearn import linear_model\n",
        "reg = linear_model.LassoLarsIC(criterion = 'bic', normalize = False)\n",
        "reg.fit(X,Y)\n",
        "print(reg.coef_)\n",
        "X.columns[np.abs(reg.coef_) > 0]\n",
        "\n",
        "\n"
      ],
      "execution_count": 116,
      "outputs": [
        {
          "output_type": "stream",
          "name": "stdout",
          "text": [
            "[ 0.00000000e+00 -1.82606940e-04  0.00000000e+00  1.02995879e+00\n",
            " -9.93721391e-01  0.00000000e+00 -3.77991985e-05  3.76489083e-03\n",
            "  0.00000000e+00  0.00000000e+00  0.00000000e+00  0.00000000e+00\n",
            "  0.00000000e+00  0.00000000e+00  0.00000000e+00  0.00000000e+00\n",
            "  0.00000000e+00  0.00000000e+00  0.00000000e+00  0.00000000e+00\n",
            "  0.00000000e+00  0.00000000e+00  0.00000000e+00  0.00000000e+00\n",
            "  0.00000000e+00  0.00000000e+00  0.00000000e+00  0.00000000e+00\n",
            "  0.00000000e+00  0.00000000e+00  0.00000000e+00  0.00000000e+00\n",
            "  0.00000000e+00  0.00000000e+00  0.00000000e+00  0.00000000e+00\n",
            "  0.00000000e+00  0.00000000e+00  0.00000000e+00  0.00000000e+00\n",
            "  0.00000000e+00  0.00000000e+00  0.00000000e+00  0.00000000e+00\n",
            "  0.00000000e+00  0.00000000e+00  0.00000000e+00  0.00000000e+00\n",
            "  0.00000000e+00  0.00000000e+00  0.00000000e+00  0.00000000e+00\n",
            "  0.00000000e+00  0.00000000e+00]\n"
          ]
        },
        {
          "output_type": "execute_result",
          "data": {
            "text/plain": [
              "Index(['Lifetime Post Total Reach', 'Lifetime Engaged Users',\n",
              "       'Lifetime Post Consumers',\n",
              "       'Lifetime Post Impressions by people who have liked your Page',\n",
              "       'Lifetime Post reach by people who like your Page'],\n",
              "      dtype='object')"
            ]
          },
          "metadata": {},
          "execution_count": 116
        }
      ]
    },
    {
      "cell_type": "markdown",
      "metadata": {
        "id": "gZA0-W8oY4rQ"
      },
      "source": [
        "## Q4 - Compare out-of-sample perormance\n",
        "\n",
        "*   List item\n",
        "*   List item\n",
        "\n"
      ]
    },
    {
      "cell_type": "markdown",
      "metadata": {
        "id": "5XK4EcwyY4rR"
      },
      "source": [
        "- Split the data to 90% train and 10% test set. \n",
        "- Train three models using the train set:\n",
        "   * `LassoLarsIC` model (a model that uses BIC to select variables)\n",
        "   * a full model (a model that includes all X variables)\n",
        "   * a `LassoCV` model (a model that uses CV on train set to select variables)\n",
        "- Remember to train a scaler using train set only, and transform both X_train and X_test. \n",
        "- Compare their test-set performance using MSE. Which model has the best performance? "
      ]
    },
    {
      "cell_type": "code",
      "metadata": {
        "id": "V9zboapBY4rR"
      },
      "source": [
        "#### YOUR CODE HERE ####\n",
        "from sklearn.model_selection import train_test_split\n",
        "from sklearn import preprocessing\n",
        "X_train, X_test, y_train, y_test = train_test_split(x, Y, test_size=0.1,random_state=4)"
      ],
      "execution_count": 102,
      "outputs": []
    },
    {
      "cell_type": "code",
      "metadata": {
        "id": "7NhI-JptYaAc",
        "colab": {
          "base_uri": "https://localhost:8080/"
        },
        "outputId": "c56b294e-e131-488a-ae7e-9227a55d7f33"
      },
      "source": [
        "X_train.shape"
      ],
      "execution_count": 103,
      "outputs": [
        {
          "output_type": "execute_result",
          "data": {
            "text/plain": [
              "(445, 55)"
            ]
          },
          "metadata": {},
          "execution_count": 103
        }
      ]
    },
    {
      "cell_type": "code",
      "metadata": {
        "id": "65t3SGERXDPR",
        "colab": {
          "base_uri": "https://localhost:8080/"
        },
        "outputId": "43ac5f9e-8ba5-4e85-b04d-4d168b7547f8"
      },
      "source": [
        "X_test.shape\n"
      ],
      "execution_count": 104,
      "outputs": [
        {
          "output_type": "execute_result",
          "data": {
            "text/plain": [
              "(50, 55)"
            ]
          },
          "metadata": {},
          "execution_count": 104
        }
      ]
    },
    {
      "cell_type": "code",
      "metadata": {
        "id": "XMAN3dj3YhAo",
        "colab": {
          "base_uri": "https://localhost:8080/"
        },
        "outputId": "82ac26e6-6b4a-4ce3-da11-a4c27de7b2d7"
      },
      "source": [
        "y_train.shape"
      ],
      "execution_count": 105,
      "outputs": [
        {
          "output_type": "execute_result",
          "data": {
            "text/plain": [
              "(445,)"
            ]
          },
          "metadata": {},
          "execution_count": 105
        }
      ]
    },
    {
      "cell_type": "code",
      "metadata": {
        "id": "6P2UFWDsYp1D",
        "colab": {
          "base_uri": "https://localhost:8080/"
        },
        "outputId": "5118f574-da65-4eb2-c51f-f373ee4824d4"
      },
      "source": [
        "y_test.shape\n"
      ],
      "execution_count": 106,
      "outputs": [
        {
          "output_type": "execute_result",
          "data": {
            "text/plain": [
              "(50,)"
            ]
          },
          "metadata": {},
          "execution_count": 106
        }
      ]
    },
    {
      "cell_type": "code",
      "metadata": {
        "id": "QKfFDZNKYtHR"
      },
      "source": [
        "scaler = preprocessing.StandardScaler().fit(X_train)"
      ],
      "execution_count": 107,
      "outputs": []
    },
    {
      "cell_type": "code",
      "metadata": {
        "id": "fbYGNuuycf0X",
        "colab": {
          "base_uri": "https://localhost:8080/"
        },
        "outputId": "69e217eb-3d9b-4d03-fe6d-7c3c7e7b5040"
      },
      "source": [
        "model_Lassoirc = linear_model.LassoLarsIC(criterion = 'bic', normalize = False)\n",
        "model_Lassoirc.fit(scaler.transform(X_train), y_train)"
      ],
      "execution_count": 108,
      "outputs": [
        {
          "output_type": "execute_result",
          "data": {
            "text/plain": [
              "LassoLarsIC(criterion='bic', normalize=False)"
            ]
          },
          "metadata": {},
          "execution_count": 108
        }
      ]
    },
    {
      "cell_type": "code",
      "metadata": {
        "id": "WXSFk_-vdGJo",
        "colab": {
          "base_uri": "https://localhost:8080/"
        },
        "outputId": "53da4920-d1ef-46a7-fcce-ab2df4d92f50"
      },
      "source": [
        "from sklearn.linear_model import LinearRegression\n",
        "model_Linear = LinearRegression()\n",
        "model_Linear.fit(scaler.transform(X_train),y_train)"
      ],
      "execution_count": 109,
      "outputs": [
        {
          "output_type": "execute_result",
          "data": {
            "text/plain": [
              "LinearRegression()"
            ]
          },
          "metadata": {},
          "execution_count": 109
        }
      ]
    },
    {
      "cell_type": "code",
      "metadata": {
        "id": "3Zwu58yGeGgu",
        "colab": {
          "base_uri": "https://localhost:8080/"
        },
        "outputId": "8c6f577d-92f4-45c3-9ef8-9eaa85fa058b"
      },
      "source": [
        "model_lassocv = LassoCV(cv=5,normalize=False)\n",
        "model_lassocv.fit(scaler.transform(X_train), y_train)"
      ],
      "execution_count": 110,
      "outputs": [
        {
          "output_type": "stream",
          "name": "stderr",
          "text": [
            "/usr/local/lib/python3.7/dist-packages/sklearn/linear_model/_base.py:155: FutureWarning: 'normalize' was deprecated in version 1.0 and will be removed in 1.2. Please leave the normalize parameter to its default value to silence this warning. The default behavior of this estimator is to not do any normalization. If normalization is needed please use sklearn.preprocessing.StandardScaler instead.\n",
            "  FutureWarning,\n"
          ]
        },
        {
          "output_type": "execute_result",
          "data": {
            "text/plain": [
              "LassoCV(cv=5, normalize=False)"
            ]
          },
          "metadata": {},
          "execution_count": 110
        }
      ]
    },
    {
      "cell_type": "code",
      "metadata": {
        "id": "eHOC2RGfffw-"
      },
      "source": [
        "from sklearn import metrics"
      ],
      "execution_count": 111,
      "outputs": []
    },
    {
      "cell_type": "code",
      "metadata": {
        "id": "4H5Mhhd-fmLT",
        "colab": {
          "base_uri": "https://localhost:8080/"
        },
        "outputId": "47de7bec-1e63-4f2a-d796-c4dd578cc29a"
      },
      "source": [
        "y1_test = model_Lassoirc.predict(scaler.transform(X_test)) \n",
        "metrics.mean_squared_error(y_true= y_test, y_pred=y1_test)"
      ],
      "execution_count": 112,
      "outputs": [
        {
          "output_type": "execute_result",
          "data": {
            "text/plain": [
              "15236.967541955088"
            ]
          },
          "metadata": {},
          "execution_count": 112
        }
      ]
    },
    {
      "cell_type": "code",
      "metadata": {
        "id": "YUACLEKyf5cy",
        "colab": {
          "base_uri": "https://localhost:8080/"
        },
        "outputId": "3a487f7b-ab7c-4a44-a6bf-85f5ccc1e8f3"
      },
      "source": [
        "y2_test = model_lassocv.predict(scaler.transform(X_test))\n",
        "metrics.mean_squared_error(y_true=y_test, y_pred=y2_test)"
      ],
      "execution_count": 113,
      "outputs": [
        {
          "output_type": "execute_result",
          "data": {
            "text/plain": [
              "5242.046771571953"
            ]
          },
          "metadata": {},
          "execution_count": 113
        }
      ]
    },
    {
      "cell_type": "code",
      "metadata": {
        "id": "-bDwWqv8hEc0",
        "colab": {
          "base_uri": "https://localhost:8080/"
        },
        "outputId": "594e059a-34b8-4ea8-c7ee-9823d0f0b44d"
      },
      "source": [
        "y3_test = model_Linear.predict(scaler.transform(X_test))\n",
        "metrics.mean_squared_error(y_test,y3_test)"
      ],
      "execution_count": 114,
      "outputs": [
        {
          "output_type": "execute_result",
          "data": {
            "text/plain": [
              "5586.028418001769"
            ]
          },
          "metadata": {},
          "execution_count": 114
        }
      ]
    },
    {
      "cell_type": "markdown",
      "metadata": {
        "id": "gbaPCfBYmCjc"
      },
      "source": [
        "Lasso CV offers the best model performance since it has the lowest MSE, which is the desired model performance metric here.\n",
        "\n"
      ]
    },
    {
      "cell_type": "code",
      "metadata": {
        "id": "YOgLVj5Dhali"
      },
      "source": [
        ""
      ],
      "execution_count": 114,
      "outputs": []
    }
  ]
}